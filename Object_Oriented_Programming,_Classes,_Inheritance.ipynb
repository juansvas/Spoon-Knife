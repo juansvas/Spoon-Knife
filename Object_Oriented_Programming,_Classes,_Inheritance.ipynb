{
  "nbformat": 4,
  "nbformat_minor": 0,
  "metadata": {
    "colab": {
      "name": "Object Oriented Programming, Classes, Inheritance",
      "provenance": [],
      "authorship_tag": "ABX9TyOmWYMOPfaWvCPb0k19DzgY"
    },
    "kernelspec": {
      "name": "python3",
      "display_name": "Python 3"
    }
  },
  "cells": [
    {
      "cell_type": "code",
      "metadata": {
        "id": "rdIFAU1ElkLS",
        "colab_type": "code",
        "colab": {}
      },
      "source": [
        "# Classes tell Python how to create the objects\n",
        "class Dog:\n",
        "  species = 'mammal' # Example of a class attribute\n",
        "\n",
        "  def __init__(self, name, age): # Provides initial attribute values\n",
        "    self.name = name             # Example of an instance attribute\n",
        "    self.age = age\n",
        "\n",
        "  def description(self):         # Method for dog to describe itself\n",
        "    return f'{self.name} is {self.age}'\n",
        "\n",
        "  def speak(self, sound):          # Method with needed attributes\n",
        "    return f'{self.name} says {sound}'\n",
        "  \n",
        "  def birthday(self):\n",
        "    self.age += 1"
      ],
      "execution_count": 0,
      "outputs": []
    },
    {
      "cell_type": "code",
      "metadata": {
        "id": "30b6Uj2ny3zA",
        "colab_type": "code",
        "colab": {}
      },
      "source": [
        "# Create 2 dogs\n",
        "rufo = Dog('Rufo', 2)\n",
        "mikey = Dog('Mikey', 6)"
      ],
      "execution_count": 0,
      "outputs": []
    },
    {
      "cell_type": "code",
      "metadata": {
        "id": "TSB4Ue3aznoN",
        "colab_type": "code",
        "colab": {
          "base_uri": "https://localhost:8080/",
          "height": 52
        },
        "outputId": "c77b29e2-370b-44ad-f9bb-431ffada4b8f"
      },
      "source": [
        "# Access attributes with dot .\n",
        "print(\"{} is {} and {} is {}\".format(rufo.name, rufo.age, mikey.name, mikey.age))\n",
        "\n",
        "if rufo.species == 'mammal':\n",
        "  print(\"{} is a {}\".format(rufo.name, rufo.species))"
      ],
      "execution_count": 8,
      "outputs": [
        {
          "output_type": "stream",
          "text": [
            "Rufo is 2 and Mikey is 6\n",
            "Rufo is a mammal\n"
          ],
          "name": "stdout"
        }
      ]
    },
    {
      "cell_type": "code",
      "metadata": {
        "id": "5sAOG8ug0bza",
        "colab_type": "code",
        "colab": {
          "base_uri": "https://localhost:8080/",
          "height": 52
        },
        "outputId": "42e14421-5e87-4a7f-b304-769d8f6f0356"
      },
      "source": [
        "# f-Strings remix of the above\n",
        "print(f'{rufo.name} is {rufo.age} and {mikey.name} is {mikey.age}')\n",
        "\n",
        "if rufo.species == 'mammal':\n",
        "  print(f'{rufo.name} is a {rufo.species}')"
      ],
      "execution_count": 9,
      "outputs": [
        {
          "output_type": "stream",
          "text": [
            "Rufo is 2 and Mikey is 6\n",
            "Rufo is a mammal\n"
          ],
          "name": "stdout"
        }
      ]
    },
    {
      "cell_type": "code",
      "metadata": {
        "id": "Gm5Hlj2N09ts",
        "colab_type": "code",
        "colab": {
          "base_uri": "https://localhost:8080/",
          "height": 34
        },
        "outputId": "3e0bcc97-db11-439a-a0a3-bfdbf2e3fd5d"
      },
      "source": [
        "# Changing attrbutes\n",
        "mikey.age = 7         # Can change instance attributes\n",
        "rufo.species = 'amphibian'          # Can change class attributes\n",
        "\n",
        "print(f'{rufo.name} is {rufo.age} and {mikey.name} is {mikey.age}')\n",
        "\n",
        "if rufo.species == 'mammal':\n",
        "  print(f'{rufo.name} is a {rufo.species}')"
      ],
      "execution_count": 12,
      "outputs": [
        {
          "output_type": "stream",
          "text": [
            "Rufo is 2 and Mikey is 7\n"
          ],
          "name": "stdout"
        }
      ]
    },
    {
      "cell_type": "code",
      "metadata": {
        "id": "emiMbE-I1qYA",
        "colab_type": "code",
        "colab": {
          "base_uri": "https://localhost:8080/",
          "height": 34
        },
        "outputId": "ce8316a6-bf76-41c2-8987-3d1861ff8c08"
      },
      "source": [
        "guaro = Dog(\"Guaro\", 6)\n",
        "print(guaro.description())"
      ],
      "execution_count": 31,
      "outputs": [
        {
          "output_type": "stream",
          "text": [
            "Guaro is 6\n"
          ],
          "name": "stdout"
        }
      ]
    },
    {
      "cell_type": "code",
      "metadata": {
        "id": "f1fkvQ213p9n",
        "colab_type": "code",
        "colab": {
          "base_uri": "https://localhost:8080/",
          "height": 34
        },
        "outputId": "85058982-8296-49b4-ee04-904fbada1889"
      },
      "source": [
        "# What sound does Guaro make?\n",
        "print(guaro.speak('Whoof! Whoof! Whoof!'))"
      ],
      "execution_count": 23,
      "outputs": [
        {
          "output_type": "stream",
          "text": [
            "Guaro says Whoof! Whoof! Whoof!\n"
          ],
          "name": "stdout"
        }
      ]
    },
    {
      "cell_type": "code",
      "metadata": {
        "id": "hnQObIQY32uu",
        "colab_type": "code",
        "colab": {}
      },
      "source": [
        "guaro.birthday()"
      ],
      "execution_count": 0,
      "outputs": []
    },
    {
      "cell_type": "code",
      "metadata": {
        "id": "TMn2xcn_4tCT",
        "colab_type": "code",
        "colab": {
          "base_uri": "https://localhost:8080/",
          "height": 52
        },
        "outputId": "09e54c27-5b6b-4630-938b-c7df715c3ce0"
      },
      "source": [
        "print(guaro.age)\n",
        "guaro.birthday()\n",
        "print(guaro.age)"
      ],
      "execution_count": 34,
      "outputs": [
        {
          "output_type": "stream",
          "text": [
            "8\n",
            "9\n"
          ],
          "name": "stdout"
        }
      ]
    },
    {
      "cell_type": "code",
      "metadata": {
        "id": "5mbM4uA_5XIH",
        "colab_type": "code",
        "colab": {}
      },
      "source": [
        "# Create Player Class\n",
        "class LAFC_Player:\n",
        "  team = 'LAFC'\n",
        "\n",
        "  def __init__(self, name, number, position):\n",
        "    self.name = name\n",
        "    self.number = number\n",
        "    self.position = position"
      ],
      "execution_count": 0,
      "outputs": []
    },
    {
      "cell_type": "code",
      "metadata": {
        "id": "RAKw1UUL6LrW",
        "colab_type": "code",
        "colab": {
          "base_uri": "https://localhost:8080/",
          "height": 34
        },
        "outputId": "6b04cc86-0a9a-4b19-c309-dd840490c25c"
      },
      "source": [
        "# Instantiate new player\n",
        "atuesta = LAFC_Player('Eduard Atuesta', 20, 'Midfielder')\n",
        "print(f'{atuesta.name} plays as a {atuesta.position} and is number {atuesta.number}')"
      ],
      "execution_count": 37,
      "outputs": [
        {
          "output_type": "stream",
          "text": [
            "Eduard Atuesta plays as a Midfielder and is number 20\n"
          ],
          "name": "stdout"
        }
      ]
    },
    {
      "cell_type": "code",
      "metadata": {
        "id": "lbtMVAPA6c7a",
        "colab_type": "code",
        "colab": {}
      },
      "source": [
        "# Consider Inheritance in Class Design\n",
        "\n",
        "#Original Class\n",
        "class Person:\n",
        "  description = 'general person'\n",
        "\n",
        "  def __init__(self, name, age):\n",
        "    self.name = name\n",
        "    self.age = age\n",
        "\n",
        "  def speak(self):\n",
        "    print(f'My name is {self.name} and I am {self.age}')\n",
        "\n",
        "  def eat(self, food):\n",
        "    print(f'{self.name} eats {food}')\n",
        "  \n",
        "  def action(self):\n",
        "    print(f'{self.name} jumps')\n",
        "\n",
        "# Subclass\n",
        "class Baby(Person):\n",
        "  description = 'baby'          # Example of overwriting\n",
        "\n",
        "  def speak(self):\n",
        "    print('ba ba ba ba ba')\n",
        "  \n",
        "  def nap(self):\n",
        "    return f'{self.name} takes a nap.'"
      ],
      "execution_count": 0,
      "outputs": []
    },
    {
      "cell_type": "code",
      "metadata": {
        "id": "fDQYtleSKU8j",
        "colab_type": "code",
        "colab": {
          "base_uri": "https://localhost:8080/",
          "height": 123
        },
        "outputId": "82beeea6-29a1-4380-e508-86bf2b1001ed"
      },
      "source": [
        "# Inheritance example\n",
        "\n",
        "sebas = Person('Sebas', 31.9)\n",
        "\n",
        "sebas.speak()\n",
        "sebas.eat(\"Pizza\")\n",
        "sebas.action()\n",
        "\n",
        "milo = Baby('Milo', 1)\n",
        "milo.speak()\n",
        "milo.eat('Spinach')\n",
        "milo.action()"
      ],
      "execution_count": 47,
      "outputs": [
        {
          "output_type": "stream",
          "text": [
            "My name is Sebas and I am 31.9\n",
            "Sebas eats Pizza\n",
            "Sebas jumps\n",
            "ba ba ba ba ba\n",
            "Milo eats Spinach\n",
            "Milo jumps\n"
          ],
          "name": "stdout"
        }
      ]
    },
    {
      "cell_type": "code",
      "metadata": {
        "id": "vn8ijYGSKgcJ",
        "colab_type": "code",
        "colab": {
          "base_uri": "https://localhost:8080/",
          "height": 52
        },
        "outputId": "48659f51-ce6f-4823-a3e0-571914d32d9b"
      },
      "source": [
        "print(sebas.description)\n",
        "print(milo.description)"
      ],
      "execution_count": 50,
      "outputs": [
        {
          "output_type": "stream",
          "text": [
            "general person\n",
            "baby\n"
          ],
          "name": "stdout"
        }
      ]
    },
    {
      "cell_type": "code",
      "metadata": {
        "id": "_pVME3jvK6DA",
        "colab_type": "code",
        "colab": {
          "base_uri": "https://localhost:8080/",
          "height": 52
        },
        "outputId": "faec116a-f7ad-4176-bbd2-e8f87b5dab1c"
      },
      "source": [
        "# Check if milo is the Person class\n",
        "print(isinstance(milo, Baby))\n",
        "print(isinstance(milo, Person))\n",
        "\n",
        "# NOTE: Objects can be of many classes"
      ],
      "execution_count": 53,
      "outputs": [
        {
          "output_type": "stream",
          "text": [
            "True\n",
            "True\n"
          ],
          "name": "stdout"
        }
      ]
    },
    {
      "cell_type": "code",
      "metadata": {
        "id": "zdAcKw6bLjHw",
        "colab_type": "code",
        "colab": {}
      },
      "source": [
        "# Tutorial: https://realpython.com/courses/intro-object-oriented-programming-oop-python"
      ],
      "execution_count": 0,
      "outputs": []
    }
  ]
}