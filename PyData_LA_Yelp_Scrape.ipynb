{
  "nbformat": 4,
  "nbformat_minor": 0,
  "metadata": {
    "colab": {
      "name": "PyData LA Yelp Scrape",
      "provenance": [],
      "collapsed_sections": [],
      "include_colab_link": true
    },
    "kernelspec": {
      "name": "python3",
      "display_name": "Python 3"
    }
  },
  "cells": [
    {
      "cell_type": "markdown",
      "metadata": {
        "id": "view-in-github",
        "colab_type": "text"
      },
      "source": [
        "<a href=\"https://colab.research.google.com/github/juansvas/Spoon-Knife/blob/master/PyData_LA_Yelp_Scrape.ipynb\" target=\"_parent\"><img src=\"https://colab.research.google.com/assets/colab-badge.svg\" alt=\"Open In Colab\"/></a>"
      ]
    },
    {
      "cell_type": "markdown",
      "metadata": {
        "id": "_GV8AW0-7bIT",
        "colab_type": "text"
      },
      "source": [
        "**Import requests, pandas, product from itertools**"
      ]
    },
    {
      "cell_type": "code",
      "metadata": {
        "id": "_jB7mC_V6Xc3",
        "colab_type": "code",
        "colab": {}
      },
      "source": [
        "import requests as r\n",
        "import pandas as pd\n",
        "from itertools import product"
      ],
      "execution_count": 0,
      "outputs": []
    },
    {
      "cell_type": "markdown",
      "metadata": {
        "id": "JL_Kkr-v8V7x",
        "colab_type": "text"
      },
      "source": [
        "[Yelp API Documentation Here](https://www.yelp.com/developers/documentation/v3/business_search)"
      ]
    },
    {
      "cell_type": "markdown",
      "metadata": {
        "id": "DVHlHVl37neR",
        "colab_type": "text"
      },
      "source": [
        "**Set up URL, Key and Headers as part of the API credentials** -- use https://api.yelp.com/v3/businesses/search"
      ]
    },
    {
      "cell_type": "code",
      "metadata": {
        "id": "bmhbDMt37jqL",
        "colab_type": "code",
        "colab": {}
      },
      "source": [
        "url = 'https://api.yelp.com/v3/businesses/search'\n",
        "key = '2DAEENERct1-cdmOJYoa-fud1SwrYN75TStPGc5pY3PL2w6iAqARMQlzxJXP1VzKbL-2wQJ_cOalA8ZCEK2pbTgfdibrB7KJ8DYVhsH0Ekg3YPeXaYjvFbWkYFeFXXYx'\n",
        "headers = {\n",
        "    'Authorization': 'Bearer %s' % key,\n",
        "}"
      ],
      "execution_count": 0,
      "outputs": []
    },
    {
      "cell_type": "markdown",
      "metadata": {
        "id": "gyiKZ6cQ7hAJ",
        "colab_type": "text"
      },
      "source": [
        "**Call the first 50 listings**"
      ]
    },
    {
      "cell_type": "code",
      "metadata": {
        "id": "u6gsXb2jIgma",
        "colab_type": "code",
        "outputId": "ef2fef88-f6e3-4276-cf9b-ae11bfa2f6c8",
        "colab": {
          "base_uri": "https://localhost:8080/",
          "height": 55
        }
      },
      "source": [
        "url_params = {\"location\" : \"1200 W 7th Street, Los Angeles 90017\",\n",
        "                \"limit\" : 50,\n",
        "                \"term\" : \"coffee\",\n",
        "                \"radius\" : 2400,\n",
        "                \"offset\" : 0}\n",
        "response = r.request('GET', url, headers=headers, params=url_params)\n",
        "print(response.json())"
      ],
      "execution_count": 0,
      "outputs": [
        {
          "output_type": "stream",
          "text": [
            "{'businesses': [{'id': 'C4kO7SU6ghE3g6Gg4SsjGQ', 'alias': 'installation-coffee-los-angeles', 'name': 'Installation Coffee', 'image_url': 'https://s3-media4.fl.yelpcdn.com/bphoto/KDK30qMDqGAQC6KLcgAtdQ/o.jpg', 'is_closed': False, 'url': 'https://www.yelp.com/biz/installation-coffee-los-angeles?adjust_creative=bdJBYIrivjkgp_4AV--1ew&utm_campaign=yelp_api_v3&utm_medium=api_v3_business_search&utm_source=bdJBYIrivjkgp_4AV--1ew', 'review_count': 61, 'categories': [{'alias': 'coffee', 'title': 'Coffee & Tea'}], 'rating': 5.0, 'coordinates': {'latitude': 34.04626, 'longitude': -118.25462}, 'transactions': [], 'price': '$', 'location': {'address1': '421 W 7th St', 'address2': None, 'address3': '', 'city': 'Los Angeles', 'zip_code': '90014', 'country': 'US', 'state': 'CA', 'display_address': ['421 W 7th St', 'Los Angeles, CA 90014']}, 'phone': '+12136283270', 'display_phone': '(213) 628-3270', 'distance': 1142.314080018099}, {'id': 'Hns7-VgOlBpv_089xqTBZA', 'alias': 'laveta-los-angeles', 'name': 'Laveta', 'image_url': 'https://s3-media2.fl.yelpcdn.com/bphoto/IkRt_L0-4hTyvqYigLSwJA/o.jpg', 'is_closed': False, 'url': 'https://www.yelp.com/biz/laveta-los-angeles?adjust_creative=bdJBYIrivjkgp_4AV--1ew&utm_campaign=yelp_api_v3&utm_medium=api_v3_business_search&utm_source=bdJBYIrivjkgp_4AV--1ew', 'review_count': 34, 'categories': [{'alias': 'coffee', 'title': 'Coffee & Tea'}, {'alias': 'breakfast_brunch', 'title': 'Breakfast & Brunch'}, {'alias': 'acaibowls', 'title': 'Acai Bowls'}], 'rating': 4.5, 'coordinates': {'latitude': 34.0660603325114, 'longitude': -118.260219879448}, 'transactions': [], 'location': {'address1': '318 Glendale Blvd', 'address2': '', 'address3': None, 'city': 'Los Angeles', 'zip_code': '90026', 'country': 'US', 'state': 'CA', 'display_address': ['318 Glendale Blvd', 'Los Angeles, CA 90026']}, 'phone': '', 'display_phone': '', 'distance': 1726.6693182675447}, {'id': 'Aohc9uWSAxILFev2TwiMVQ', 'alias': 'philz-coffee-los-angeles-2', 'name': 'Philz Coffee', 'image_url': 'https://s3-media1.fl.yelpcdn.com/bphoto/xXeoPjw4JPsL9EuDjkDznQ/o.jpg', 'is_closed': False, 'url': 'https://www.yelp.com/biz/philz-coffee-los-angeles-2?adjust_creative=bdJBYIrivjkgp_4AV--1ew&utm_campaign=yelp_api_v3&utm_medium=api_v3_business_search&utm_source=bdJBYIrivjkgp_4AV--1ew', 'review_count': 921, 'categories': [{'alias': 'coffee', 'title': 'Coffee & Tea'}], 'rating': 4.5, 'coordinates': {'latitude': 34.0465343, 'longitude': -118.2592814}, 'transactions': [], 'price': '$', 'location': {'address1': '801 S Hope St', 'address2': 'Unit A', 'address3': '', 'city': 'Los Angeles', 'zip_code': '90017', 'country': 'US', 'state': 'CA', 'display_address': ['801 S Hope St', 'Unit A', 'Los Angeles, CA 90017']}, 'phone': '+12132132616', 'display_phone': '(213) 213-2616', 'distance': 781.6319481961642}, {'id': 'hERxbudMM_AjSfrDiaMowA', 'alias': 'fairgrounds-coffee-and-tea-los-angeles-4', 'name': 'Fairgrounds Coffee and Tea', 'image_url': 'https://s3-media2.fl.yelpcdn.com/bphoto/ZkUehuQR9xSIVEev4NuOlA/o.jpg', 'is_closed': False, 'url': 'https://www.yelp.com/biz/fairgrounds-coffee-and-tea-los-angeles-4?adjust_creative=bdJBYIrivjkgp_4AV--1ew&utm_campaign=yelp_api_v3&utm_medium=api_v3_business_search&utm_source=bdJBYIrivjkgp_4AV--1ew', 'review_count': 67, 'categories': [{'alias': 'coffee', 'title': 'Coffee & Tea'}], 'rating': 4.0, 'coordinates': {'latitude': 34.05181, 'longitude': -118.26785}, 'transactions': [], 'price': '$$', 'location': {'address1': '1256 W 7th St', 'address2': None, 'address3': '', 'city': 'Los Angeles', 'zip_code': '90017', 'country': 'US', 'state': 'CA', 'display_address': ['1256 W 7th St', 'Los Angeles, CA 90017']}, 'phone': '+12133780382', 'display_phone': '(213) 378-0382', 'distance': 186.90388849037126}, {'id': 'e-nyBXWA_0jtPgBXccb34w', 'alias': 'nice-coffee-los-angeles-2', 'name': 'Nice Coffee', 'image_url': 'https://s3-media4.fl.yelpcdn.com/bphoto/rpJfJ_VbDdm7k4Bxkpj9qQ/o.jpg', 'is_closed': False, 'url': 'https://www.yelp.com/biz/nice-coffee-los-angeles-2?adjust_creative=bdJBYIrivjkgp_4AV--1ew&utm_campaign=yelp_api_v3&utm_medium=api_v3_business_search&utm_source=bdJBYIrivjkgp_4AV--1ew', 'review_count': 119, 'categories': [{'alias': 'donuts', 'title': 'Donuts'}, {'alias': 'coffee', 'title': 'Coffee & Tea'}], 'rating': 4.5, 'coordinates': {'latitude': 34.0507802, 'longitude': -118.2576063}, 'transactions': [], 'price': '$$', 'location': {'address1': '555 S Flower St', 'address2': '', 'address3': None, 'city': 'Los Angeles', 'zip_code': '90071', 'country': 'US', 'state': 'CA', 'display_address': ['555 S Flower St', 'Los Angeles, CA 90071']}, 'phone': '', 'display_phone': '', 'distance': 753.0454904423715}, {'id': 'NLMNtxK-CZFY0J4PsHFVrw', 'alias': 'verve-coffee-roasters-los-angeles-2', 'name': 'Verve Coffee Roasters', 'image_url': 'https://s3-media3.fl.yelpcdn.com/bphoto/h5IrM2pkp-ZLBMHtAIA94g/o.jpg', 'is_closed': False, 'url': 'https://www.yelp.com/biz/verve-coffee-roasters-los-angeles-2?adjust_creative=bdJBYIrivjkgp_4AV--1ew&utm_campaign=yelp_api_v3&utm_medium=api_v3_business_search&utm_source=bdJBYIrivjkgp_4AV--1ew', 'review_count': 684, 'categories': [{'alias': 'coffee', 'title': 'Coffee & Tea'}, {'alias': 'coffeeroasteries', 'title': 'Coffee Roasteries'}], 'rating': 4.0, 'coordinates': {'latitude': 34.0423623381666, 'longitude': -118.254501991034}, 'transactions': [], 'price': '$$', 'location': {'address1': '833 S Spring St', 'address2': '', 'address3': '', 'city': 'Los Angeles', 'zip_code': '90014', 'country': 'US', 'state': 'CA', 'display_address': ['833 S Spring St', 'Los Angeles, CA 90014']}, 'phone': '+12134555991', 'display_phone': '(213) 455-5991', 'distance': 1431.0154779557208}, {'id': 'VO2KS6RxCDsKjbyO7jOfiA', 'alias': 'cognoscenti-coffee-los-angeles-5', 'name': 'Cognoscenti Coffee', 'image_url': 'https://s3-media2.fl.yelpcdn.com/bphoto/kRRrObIfyluLLBO3VSdF6Q/o.jpg', 'is_closed': False, 'url': 'https://www.yelp.com/biz/cognoscenti-coffee-los-angeles-5?adjust_creative=bdJBYIrivjkgp_4AV--1ew&utm_campaign=yelp_api_v3&utm_medium=api_v3_business_search&utm_source=bdJBYIrivjkgp_4AV--1ew', 'review_count': 122, 'categories': [{'alias': 'coffee', 'title': 'Coffee & Tea'}, {'alias': 'bedbreakfast', 'title': 'Bed & Breakfast'}, {'alias': 'sandwiches', 'title': 'Sandwiches'}], 'rating': 4.5, 'coordinates': {'latitude': 34.0440717, 'longitude': -118.2576563}, 'transactions': [], 'price': '$', 'location': {'address1': '868 S Olive St', 'address2': '', 'address3': None, 'city': 'Los Angeles', 'zip_code': '90014', 'country': 'US', 'state': 'CA', 'display_address': ['868 S Olive St', 'Los Angeles, CA 90014']}, 'phone': '+12132633349', 'display_phone': '(213) 263-3349', 'distance': 1101.1076229990667}, {'id': 'ABr1g2u9p-H-coNgwpHkUg', 'alias': 'brasil-kiss-coffeebar-los-angeles-3', 'name': 'Brasil Kiss Coffeebar', 'image_url': 'https://s3-media4.fl.yelpcdn.com/bphoto/WCkCdQDLBbM3_Ndq6I9Y7Q/o.jpg', 'is_closed': False, 'url': 'https://www.yelp.com/biz/brasil-kiss-coffeebar-los-angeles-3?adjust_creative=bdJBYIrivjkgp_4AV--1ew&utm_campaign=yelp_api_v3&utm_medium=api_v3_business_search&utm_source=bdJBYIrivjkgp_4AV--1ew', 'review_count': 236, 'categories': [{'alias': 'coffee', 'title': 'Coffee & Tea'}, {'alias': 'brazilian', 'title': 'Brazilian'}, {'alias': 'breakfast_brunch', 'title': 'Breakfast & Brunch'}], 'rating': 4.0, 'coordinates': {'latitude': 34.0519690715975, 'longitude': -118.262663157451}, 'transactions': ['delivery', 'pickup'], 'price': '$$', 'location': {'address1': '1010 Wilshire Blvd', 'address2': None, 'address3': '', 'city': 'Los Angeles', 'zip_code': '90017', 'country': 'US', 'state': 'CA', 'display_address': ['1010 Wilshire Blvd', 'Los Angeles, CA 90017']}, 'phone': '+12137855131', 'display_phone': '(213) 785-5131', 'distance': 297.22449992187734}, {'id': 'z3xjbZAQG8CpBd0Pul_WGQ', 'alias': 'tilt-coffee-bar-los-angeles-2', 'name': 'Tilt Coffee Bar', 'image_url': 'https://s3-media3.fl.yelpcdn.com/bphoto/UmYN2jeTgK62J6b0_wj4Ww/o.jpg', 'is_closed': False, 'url': 'https://www.yelp.com/biz/tilt-coffee-bar-los-angeles-2?adjust_creative=bdJBYIrivjkgp_4AV--1ew&utm_campaign=yelp_api_v3&utm_medium=api_v3_business_search&utm_source=bdJBYIrivjkgp_4AV--1ew', 'review_count': 321, 'categories': [{'alias': 'coffee', 'title': 'Coffee & Tea'}], 'rating': 5.0, 'coordinates': {'latitude': 34.048162858309, 'longitude': -118.246295170034}, 'transactions': [], 'price': '$', 'location': {'address1': '334 S Main St', 'address2': 'Kiosk 1', 'address3': '', 'city': 'Los Angeles', 'zip_code': '90013', 'country': 'US', 'state': 'CA', 'display_address': ['334 S Main St', 'Kiosk 1', 'Los Angeles, CA 90013']}, 'phone': '', 'display_phone': '', 'distance': 1825.5872407472818}, {'id': '-0mw98zl4_wKPdIoEsa-CQ', 'alias': 'andante-coffee-roasters-los-angeles-4', 'name': 'Andante Coffee Roasters', 'image_url': 'https://s3-media2.fl.yelpcdn.com/bphoto/GJb6YYjunkXin2IQXCLRxg/o.jpg', 'is_closed': False, 'url': 'https://www.yelp.com/biz/andante-coffee-roasters-los-angeles-4?adjust_creative=bdJBYIrivjkgp_4AV--1ew&utm_campaign=yelp_api_v3&utm_medium=api_v3_business_search&utm_source=bdJBYIrivjkgp_4AV--1ew', 'review_count': 95, 'categories': [{'alias': 'coffeeroasteries', 'title': 'Coffee Roasteries'}], 'rating': 4.5, 'coordinates': {'latitude': 34.04517, 'longitude': -118.25804}, 'transactions': [], 'price': '$', 'location': {'address1': '816 S Grand Ave', 'address2': '', 'address3': '', 'city': 'Los Angeles', 'zip_code': '90017', 'country': 'US', 'state': 'CA', 'display_address': ['816 S Grand Ave', 'Los Angeles, CA 90017']}, 'phone': '+12136283670', 'display_phone': '(213) 628-3670', 'distance': 972.4988146686022}, {'id': 'V6_-CiGtOeRm-uASCe2y7A', 'alias': 'two-guns-espresso-dtla-los-angeles-4', 'name': 'Two Guns Espresso DTLA', 'image_url': 'https://s3-media2.fl.yelpcdn.com/bphoto/rwGs4k-wXUbOonXxlPBfWg/o.jpg', 'is_closed': False, 'url': 'https://www.yelp.com/biz/two-guns-espresso-dtla-los-angeles-4?adjust_creative=bdJBYIrivjkgp_4AV--1ew&utm_campaign=yelp_api_v3&utm_medium=api_v3_business_search&utm_source=bdJBYIrivjkgp_4AV--1ew', 'review_count': 89, 'categories': [{'alias': 'coffee', 'title': 'Coffee & Tea'}], 'rating': 4.0, 'coordinates': {'latitude': 34.0504570439994, 'longitude': -118.2595795172}, 'transactions': [], 'price': '$$', 'location': {'address1': '601 S Figueroa St', 'address2': '', 'address3': '', 'city': 'Los Angeles', 'zip_code': '90017', 'country': 'US', 'state': 'CA', 'display_address': ['601 S Figueroa St', 'Los Angeles, CA 90017']}, 'phone': '+12136283445', 'display_phone': '(213) 628-3445', 'distance': 576.0076393649153}, {'id': 'f0y_dsTiCStg84jXbHBHTA', 'alias': 'batavia-coffee-bar-los-angeles', 'name': 'Batavia Coffee Bar', 'image_url': 'https://s3-media3.fl.yelpcdn.com/bphoto/ejAWYK776AM44SNGl0vGvg/o.jpg', 'is_closed': False, 'url': 'https://www.yelp.com/biz/batavia-coffee-bar-los-angeles?adjust_creative=bdJBYIrivjkgp_4AV--1ew&utm_campaign=yelp_api_v3&utm_medium=api_v3_business_search&utm_source=bdJBYIrivjkgp_4AV--1ew', 'review_count': 207, 'categories': [{'alias': 'coffee', 'title': 'Coffee & Tea'}, {'alias': 'bakeries', 'title': 'Bakeries'}, {'alias': 'juicebars', 'title': 'Juice Bars & Smoothies'}], 'rating': 4.5, 'coordinates': {'latitude': 34.05103, 'longitude': -118.25453}, 'transactions': ['delivery', 'pickup'], 'price': '$$', 'location': {'address1': '633 W 5th St', 'address2': 'Fl 2', 'address3': 'US Bank Tower', 'city': 'Los Angeles', 'zip_code': '90071', 'country': 'US', 'state': 'CA', 'display_address': ['633 W 5th St', 'Fl 2', 'US Bank Tower', 'Los Angeles, CA 90071']}, 'phone': '', 'display_phone': '', 'distance': 1043.7233975427841}, {'id': 'RGNxKOYPCA2exB2zYKqa7w', 'alias': 'no-ghost-bears-los-angeles-2', 'name': 'No Ghost Bears', 'image_url': 'https://s3-media2.fl.yelpcdn.com/bphoto/o-NHq_Q8XfpfAEGm8CrdvA/o.jpg', 'is_closed': False, 'url': 'https://www.yelp.com/biz/no-ghost-bears-los-angeles-2?adjust_creative=bdJBYIrivjkgp_4AV--1ew&utm_campaign=yelp_api_v3&utm_medium=api_v3_business_search&utm_source=bdJBYIrivjkgp_4AV--1ew', 'review_count': 266, 'categories': [{'alias': 'coffee', 'title': 'Coffee & Tea'}], 'rating': 4.5, 'coordinates': {'latitude': 34.041442776373, 'longitude': -118.251420971164}, 'transactions': ['delivery', 'pickup'], 'price': '$', 'location': {'address1': '305 E 8th St', 'address2': 'Unit 3', 'address3': '', 'city': 'Los Angeles', 'zip_code': '90021', 'country': 'US', 'state': 'CA', 'display_address': ['305 E 8th St', 'Unit 3', 'Los Angeles, CA 90021']}, 'phone': '', 'display_phone': '', 'distance': 1711.5555844373794}, {'id': 'qhPBVr8vv75EsQXB_B194Q', 'alias': 'v-los-angeles-3', 'name': 'V', 'image_url': 'https://s3-media3.fl.yelpcdn.com/bphoto/nTbjtzcNe3-_1LhVwOLqcg/o.jpg', 'is_closed': False, 'url': 'https://www.yelp.com/biz/v-los-angeles-3?adjust_creative=bdJBYIrivjkgp_4AV--1ew&utm_campaign=yelp_api_v3&utm_medium=api_v3_business_search&utm_source=bdJBYIrivjkgp_4AV--1ew', 'review_count': 122, 'categories': [{'alias': 'modern_european', 'title': 'Modern European'}, {'alias': 'coffee', 'title': 'Coffee & Tea'}], 'rating': 4.0, 'coordinates': {'latitude': 34.04704, 'longitude': -118.25593}, 'transactions': [], 'price': '$$', 'location': {'address1': '515 W 7th St', 'address2': None, 'address3': '', 'city': 'Los Angeles', 'zip_code': '90014', 'country': 'US', 'state': 'CA', 'display_address': ['515 W 7th St', 'Los Angeles, CA 90014']}, 'phone': '+15108586581', 'display_phone': '(510) 858-6581', 'distance': 1018.8155250595393}, {'id': 'bCDpIOiX5kAt2lHFb1_B9g', 'alias': 'cafe-integral-los-angeles', 'name': 'Cafe Integral', 'image_url': 'https://s3-media1.fl.yelpcdn.com/bphoto/AB4KBqlyATP-cUjiSIswsw/o.jpg', 'is_closed': False, 'url': 'https://www.yelp.com/biz/cafe-integral-los-angeles?adjust_creative=bdJBYIrivjkgp_4AV--1ew&utm_campaign=yelp_api_v3&utm_medium=api_v3_business_search&utm_source=bdJBYIrivjkgp_4AV--1ew', 'review_count': 17, 'categories': [{'alias': 'coffee', 'title': 'Coffee & Tea'}], 'rating': 4.0, 'coordinates': {'latitude': 34.04481, 'longitude': -118.25666}, 'transactions': [], 'location': {'address1': '416 W 8th St', 'address2': '', 'address3': None, 'city': 'Los Angeles', 'zip_code': '90014', 'country': 'US', 'state': 'CA', 'display_address': ['416 W 8th St', 'Los Angeles, CA 90014']}, 'phone': '+12136120021', 'display_phone': '(213) 612-0021', 'distance': 1107.430673899915}, {'id': 'Ln66Iw9VEoSvKMGiuXReiA', 'alias': 'earth-bean-coffee-los-angeles-2', 'name': 'Earth Bean Coffee', 'image_url': 'https://s3-media2.fl.yelpcdn.com/bphoto/psG5p8l1TkakEUx60H5wKQ/o.jpg', 'is_closed': False, 'url': 'https://www.yelp.com/biz/earth-bean-coffee-los-angeles-2?adjust_creative=bdJBYIrivjkgp_4AV--1ew&utm_campaign=yelp_api_v3&utm_medium=api_v3_business_search&utm_source=bdJBYIrivjkgp_4AV--1ew', 'review_count': 60, 'categories': [{'alias': 'coffee', 'title': 'Coffee & Tea'}, {'alias': 'coffeeroasteries', 'title': 'Coffee Roasteries'}], 'rating': 5.0, 'coordinates': {'latitude': 34.03849, 'longitude': -118.25662}, 'transactions': ['delivery', 'pickup'], 'price': '$$', 'location': {'address1': '1040 S Los Angeles St', 'address2': None, 'address3': '', 'city': 'Los Angeles', 'zip_code': '90015', 'country': 'US', 'state': 'CA', 'display_address': ['1040 S Los Angeles St', 'Los Angeles, CA 90015']}, 'phone': '+12132751201', 'display_phone': '(213) 275-1201', 'distance': 1647.8894802778289}, {'id': 'x1HierOUSxuZ2NJb1cttqQ', 'alias': 'coffee-by-kofi-los-angeles-2', 'name': 'Coffee by KOFI', 'image_url': 'https://s3-media4.fl.yelpcdn.com/bphoto/5E1cL5jkTD-A07UKWDljUg/o.jpg', 'is_closed': False, 'url': 'https://www.yelp.com/biz/coffee-by-kofi-los-angeles-2?adjust_creative=bdJBYIrivjkgp_4AV--1ew&utm_campaign=yelp_api_v3&utm_medium=api_v3_business_search&utm_source=bdJBYIrivjkgp_4AV--1ew', 'review_count': 84, 'categories': [{'alias': 'coffee', 'title': 'Coffee & Tea'}], 'rating': 5.0, 'coordinates': {'latitude': 34.0312448, 'longitude': -118.2665321}, 'transactions': [], 'price': '$$', 'location': {'address1': '1933 S Broadway', 'address2': 'Lobby', 'address3': '', 'city': 'Los Angeles', 'zip_code': '90007', 'country': 'US', 'state': 'CA', 'display_address': ['1933 S Broadway', 'Lobby', 'Los Angeles, CA 90007']}, 'phone': '+16467259580', 'display_phone': '(646) 725-9580', 'distance': 2222.9838600463195}, {'id': 'vZ2f5oYGtpvFz_G0RfVrYA', 'alias': 'drnk-coffee-tea-los-angeles-17', 'name': 'DRNK Coffee + Tea', 'image_url': 'https://s3-media2.fl.yelpcdn.com/bphoto/rc_Gi9DT6WQGYxq2V_K3xg/o.jpg', 'is_closed': False, 'url': 'https://www.yelp.com/biz/drnk-coffee-tea-los-angeles-17?adjust_creative=bdJBYIrivjkgp_4AV--1ew&utm_campaign=yelp_api_v3&utm_medium=api_v3_business_search&utm_source=bdJBYIrivjkgp_4AV--1ew', 'review_count': 6, 'categories': [{'alias': 'coffee', 'title': 'Coffee & Tea'}, {'alias': 'cafes', 'title': 'Cafes'}, {'alias': 'breakfast_brunch', 'title': 'Breakfast & Brunch'}], 'rating': 4.0, 'coordinates': {'latitude': 34.0481549, 'longitude': -118.2582075}, 'transactions': ['delivery'], 'price': '$', 'location': {'address1': '750 W 7th St', 'address2': 'Ste 620', 'address3': '', 'city': 'Los Angeles', 'zip_code': '90017', 'country': 'US', 'state': 'CA', 'display_address': ['750 W 7th St', 'Ste 620', 'Los Angeles, CA 90017']}, 'phone': '+12136283128', 'display_phone': '(213) 628-3128', 'distance': 759.3009811590077}, {'id': 'JMKiOIRY3cp0E7P2UptmUg', 'alias': 'blue-bottle-coffee-los-angeles-17', 'name': 'Blue Bottle Coffee', 'image_url': 'https://s3-media3.fl.yelpcdn.com/bphoto/0ABzgF8nSkE0NcHJmiIg_w/o.jpg', 'is_closed': False, 'url': 'https://www.yelp.com/biz/blue-bottle-coffee-los-angeles-17?adjust_creative=bdJBYIrivjkgp_4AV--1ew&utm_campaign=yelp_api_v3&utm_medium=api_v3_business_search&utm_source=bdJBYIrivjkgp_4AV--1ew', 'review_count': 320, 'categories': [{'alias': 'coffee', 'title': 'Coffee & Tea'}], 'rating': 4.0, 'coordinates': {'latitude': 34.05055, 'longitude': -118.24787}, 'transactions': [], 'price': '$$', 'location': {'address1': '300 South Broadway', 'address2': '', 'address3': None, 'city': 'Los Angeles', 'zip_code': '90013', 'country': 'US', 'state': 'CA', 'display_address': ['300 South Broadway', 'Los Angeles, CA 90013']}, 'phone': '+15106533394', 'display_phone': '(510) 653-3394', 'distance': 1641.0124793221094}, {'id': 'Cunkv-IdDm-akb0ZjJ3RkQ', 'alias': 'space-e-um-cafe-los-angeles-2', 'name': 'Space E.Um Cafe', 'image_url': 'https://s3-media3.fl.yelpcdn.com/bphoto/dYDrfZhlX3s6bcaqLuBm-Q/o.jpg', 'is_closed': False, 'url': 'https://www.yelp.com/biz/space-e-um-cafe-los-angeles-2?adjust_creative=bdJBYIrivjkgp_4AV--1ew&utm_campaign=yelp_api_v3&utm_medium=api_v3_business_search&utm_source=bdJBYIrivjkgp_4AV--1ew', 'review_count': 282, 'categories': [{'alias': 'coffee', 'title': 'Coffee & Tea'}], 'rating': 4.5, 'coordinates': {'latitude': 34.0616012726842, 'longitude': -118.287059765609}, 'transactions': [], 'price': '$', 'location': {'address1': '3020 Wilshire Blvd', 'address2': 'Ste 100', 'address3': '', 'city': 'Los Angeles', 'zip_code': '90010', 'country': 'US', 'state': 'CA', 'display_address': ['3020 Wilshire Blvd', 'Ste 100', 'Los Angeles, CA 90010']}, 'phone': '+12133863896', 'display_phone': '(213) 386-3896', 'distance': 2276.0219375016827}, {'id': '4hgBOaeWJ_vJDovzEH8Drw', 'alias': 'café-wg-los-angeles-2', 'name': 'Café WG', 'image_url': 'https://s3-media2.fl.yelpcdn.com/bphoto/9l8-mz0d-1lWDEHL52SXYQ/o.jpg', 'is_closed': False, 'url': 'https://www.yelp.com/biz/caf%C3%A9-wg-los-angeles-2?adjust_creative=bdJBYIrivjkgp_4AV--1ew&utm_campaign=yelp_api_v3&utm_medium=api_v3_business_search&utm_source=bdJBYIrivjkgp_4AV--1ew', 'review_count': 29, 'categories': [{'alias': 'coffee', 'title': 'Coffee & Tea'}, {'alias': 'cafes', 'title': 'Cafes'}, {'alias': 'sandwiches', 'title': 'Sandwiches'}], 'rating': 3.5, 'coordinates': {'latitude': 34.049813, 'longitude': -118.260154}, 'transactions': [], 'price': '$$', 'location': {'address1': '900 Wilshire Blvd', 'address2': 'Ste 130', 'address3': '', 'city': 'Los Angeles', 'zip_code': '90017', 'country': 'US', 'state': 'CA', 'display_address': ['900 Wilshire Blvd', 'Ste 130', 'Los Angeles, CA 90017']}, 'phone': '+12134399025', 'display_phone': '(213) 439-9025', 'distance': 540.0682704176195}, {'id': '9_6rOxzE7mMW2G4qVWTXAg', 'alias': 'kaffebaren-los-angeles', 'name': 'Kaffebaren', 'image_url': 'https://s3-media2.fl.yelpcdn.com/bphoto/9TO5WKaSKY3eb-yZgPuGKg/o.jpg', 'is_closed': False, 'url': 'https://www.yelp.com/biz/kaffebaren-los-angeles?adjust_creative=bdJBYIrivjkgp_4AV--1ew&utm_campaign=yelp_api_v3&utm_medium=api_v3_business_search&utm_source=bdJBYIrivjkgp_4AV--1ew', 'review_count': 31, 'categories': [{'alias': 'coffee', 'title': 'Coffee & Tea'}, {'alias': 'beerbar', 'title': 'Beer Bar'}], 'rating': 4.0, 'coordinates': {'latitude': 34.041968, 'longitude': -118.25934}, 'transactions': [], 'price': '$', 'location': {'address1': '1000 S Olive', 'address2': '', 'address3': None, 'city': 'Los Angeles', 'zip_code': '90015', 'country': 'US', 'state': 'CA', 'display_address': ['1000 S Olive', 'Los Angeles, CA 90015']}, 'phone': '+12135969005', 'display_phone': '(213) 596-9005', 'distance': 1187.4226236247698}, {'id': 'I90wd2SGfFc6vmja57qpxA', 'alias': 'eightfold-coffee-los-angeles-4', 'name': 'Eightfold Coffee', 'image_url': 'https://s3-media4.fl.yelpcdn.com/bphoto/GpPMTFnIyd1QTGGfw_DOog/o.jpg', 'is_closed': False, 'url': 'https://www.yelp.com/biz/eightfold-coffee-los-angeles-4?adjust_creative=bdJBYIrivjkgp_4AV--1ew&utm_campaign=yelp_api_v3&utm_medium=api_v3_business_search&utm_source=bdJBYIrivjkgp_4AV--1ew', 'review_count': 221, 'categories': [{'alias': 'coffee', 'title': 'Coffee & Tea'}], 'rating': 4.0, 'coordinates': {'latitude': 34.0710914418663, 'longitude': -118.250747892565}, 'transactions': [], 'price': '$$', 'location': {'address1': '1294 W Sunset Blvd', 'address2': None, 'address3': '', 'city': 'Los Angeles', 'zip_code': '90026', 'country': 'US', 'state': 'CA', 'display_address': ['1294 W Sunset Blvd', 'Los Angeles, CA 90026']}, 'phone': '+12139473500', 'display_phone': '(213) 947-3500', 'distance': 2606.177094964595}, {'id': 'NcTJ6XscgsZt8pbBBR7vDw', 'alias': 'for-five-coffee-roasters-los-angeles-2', 'name': 'For Five Coffee Roasters', 'image_url': 'https://s3-media1.fl.yelpcdn.com/bphoto/guiSPBgN2I9dSi61AGsP5w/o.jpg', 'is_closed': False, 'url': 'https://www.yelp.com/biz/for-five-coffee-roasters-los-angeles-2?adjust_creative=bdJBYIrivjkgp_4AV--1ew&utm_campaign=yelp_api_v3&utm_medium=api_v3_business_search&utm_source=bdJBYIrivjkgp_4AV--1ew', 'review_count': 46, 'categories': [{'alias': 'coffeeroasteries', 'title': 'Coffee Roasteries'}], 'rating': 4.0, 'coordinates': {'latitude': 34.052964, 'longitude': -118.251571}, 'transactions': [], 'price': '$$', 'location': {'address1': '333 S Grand Ave', 'address2': '', 'address3': None, 'city': 'Los Angeles', 'zip_code': '90071', 'country': 'US', 'state': 'CA', 'display_address': ['333 S Grand Ave', 'Los Angeles, CA 90071']}, 'phone': '+13233069656', 'display_phone': '(323) 306-9656', 'distance': 1321.6192876026614}, {'id': '-C6EvPvDasXmZSRyT_dzdw', 'alias': 'skidrow-coffee-los-angeles', 'name': 'Skidrow Coffee', 'image_url': 'https://s3-media3.fl.yelpcdn.com/bphoto/uZLFmq0Xhsz5wzGMWzsz9A/o.jpg', 'is_closed': False, 'url': 'https://www.yelp.com/biz/skidrow-coffee-los-angeles?adjust_creative=bdJBYIrivjkgp_4AV--1ew&utm_campaign=yelp_api_v3&utm_medium=api_v3_business_search&utm_source=bdJBYIrivjkgp_4AV--1ew', 'review_count': 25, 'categories': [{'alias': 'coffee', 'title': 'Coffee & Tea'}, {'alias': 'nonprofit', 'title': 'Community Service/Non-Profit'}, {'alias': 'libraries', 'title': 'Libraries'}], 'rating': 5.0, 'coordinates': {'latitude': 34.0504953, 'longitude': -118.255675957672}, 'transactions': [], 'location': {'address1': '630 W 5th St', 'address2': None, 'address3': '', 'city': 'Los Angeles', 'zip_code': '90071', 'country': 'US', 'state': 'CA', 'display_address': ['630 W 5th St', 'Los Angeles, CA 90071']}, 'phone': '+12132473217', 'display_phone': '(213) 247-3217', 'distance': 932.8011014204639}, {'id': 'ehKEcixcAJl7BZz8dbTMtQ', 'alias': 'nimbus-coffee-los-angeles-2', 'name': 'Nimbus Coffee', 'image_url': 'https://s3-media1.fl.yelpcdn.com/bphoto/lSemDn96askfdNmX8vUMMQ/o.jpg', 'is_closed': False, 'url': 'https://www.yelp.com/biz/nimbus-coffee-los-angeles-2?adjust_creative=bdJBYIrivjkgp_4AV--1ew&utm_campaign=yelp_api_v3&utm_medium=api_v3_business_search&utm_source=bdJBYIrivjkgp_4AV--1ew', 'review_count': 103, 'categories': [{'alias': 'coffee', 'title': 'Coffee & Tea'}], 'rating': 3.5, 'coordinates': {'latitude': 34.041887, 'longitude': -118.263719}, 'transactions': [], 'price': '$$', 'location': {'address1': '1115 S Hope St', 'address2': '', 'address3': None, 'city': 'Los Angeles', 'zip_code': '90015', 'country': 'US', 'state': 'CA', 'display_address': ['1115 S Hope St', 'Los Angeles, CA 90015']}, 'phone': '+12134417309', 'display_phone': '(213) 441-7309', 'distance': 1036.4410111162645}, {'id': '2RyU6IiFxLJ7jqhHWyOG4A', 'alias': 'the-nomad-coffee-bar-los-angeles', 'name': 'The NoMad Coffee Bar', 'image_url': 'https://s3-media3.fl.yelpcdn.com/bphoto/YHZqibMuUDTEpqigzygnUA/o.jpg', 'is_closed': False, 'url': 'https://www.yelp.com/biz/the-nomad-coffee-bar-los-angeles?adjust_creative=bdJBYIrivjkgp_4AV--1ew&utm_campaign=yelp_api_v3&utm_medium=api_v3_business_search&utm_source=bdJBYIrivjkgp_4AV--1ew', 'review_count': 13, 'categories': [{'alias': 'coffee', 'title': 'Coffee & Tea'}], 'rating': 3.5, 'coordinates': {'latitude': 34.04697, 'longitude': -118.25557}, 'transactions': [], 'location': {'address1': '649 S Olive St', 'address2': None, 'address3': '', 'city': 'Los Angeles', 'zip_code': '90017', 'country': 'US', 'state': 'CA', 'display_address': ['649 S Olive St', 'Los Angeles, CA 90017']}, 'phone': '+12133580000', 'display_phone': '(213) 358-0000', 'distance': 1059.5697675477659}, {'id': 'eXZyAF5Xk1u-d9vnkeNPXg', 'alias': 'birdies-los-angeles-3', 'name': 'Birdies', 'image_url': 'https://s3-media3.fl.yelpcdn.com/bphoto/-Y1mz47gNNmlRBKB-RJLWw/o.jpg', 'is_closed': False, 'url': 'https://www.yelp.com/biz/birdies-los-angeles-3?adjust_creative=bdJBYIrivjkgp_4AV--1ew&utm_campaign=yelp_api_v3&utm_medium=api_v3_business_search&utm_source=bdJBYIrivjkgp_4AV--1ew', 'review_count': 1780, 'categories': [{'alias': 'chickenshop', 'title': 'Chicken Shop'}, {'alias': 'donuts', 'title': 'Donuts'}, {'alias': 'coffee', 'title': 'Coffee & Tea'}], 'rating': 4.0, 'coordinates': {'latitude': 34.041836309712, 'longitude': -118.259046916196}, 'transactions': [], 'price': '$$', 'location': {'address1': '314 W Olympic Blvd', 'address2': None, 'address3': '', 'city': 'Los Angeles', 'zip_code': '90015', 'country': 'US', 'state': 'CA', 'display_address': ['314 W Olympic Blvd', 'Los Angeles, CA 90015']}, 'phone': '+12135365720', 'display_phone': '(213) 536-5720', 'distance': 1213.6815906311922}, {'id': 'iOIbvIbzqs6iVUOqP0oC5g', 'alias': 'g-and-b-coffee-los-angeles-2', 'name': 'G&B Coffee', 'image_url': 'https://s3-media4.fl.yelpcdn.com/bphoto/fpkkuIX4xJwrN-pdMe4R-A/o.jpg', 'is_closed': False, 'url': 'https://www.yelp.com/biz/g-and-b-coffee-los-angeles-2?adjust_creative=bdJBYIrivjkgp_4AV--1ew&utm_campaign=yelp_api_v3&utm_medium=api_v3_business_search&utm_source=bdJBYIrivjkgp_4AV--1ew', 'review_count': 826, 'categories': [{'alias': 'coffee', 'title': 'Coffee & Tea'}], 'rating': 4.0, 'coordinates': {'latitude': 34.051098, 'longitude': -118.249411}, 'transactions': [], 'price': '$$', 'location': {'address1': '317 S Broadway', 'address2': 'Ste C19', 'address3': '', 'city': 'Los Angeles', 'zip_code': '90013', 'country': 'US', 'state': 'CA', 'display_address': ['317 S Broadway', 'Ste C19', 'Los Angeles, CA 90013']}, 'phone': '+12132610622', 'display_phone': '(213) 261-0622', 'distance': 1506.5010727913782}, {'id': 'XTTiRLNCOzWWjT-yDZy8vw', 'alias': 'mad-lab-coffee-los-angeles', 'name': 'Mad Lab Coffee', 'image_url': 'https://s3-media3.fl.yelpcdn.com/bphoto/0oRijqmV7r9wlWblnCUDQA/o.jpg', 'is_closed': False, 'url': 'https://www.yelp.com/biz/mad-lab-coffee-los-angeles?adjust_creative=bdJBYIrivjkgp_4AV--1ew&utm_campaign=yelp_api_v3&utm_medium=api_v3_business_search&utm_source=bdJBYIrivjkgp_4AV--1ew', 'review_count': 1, 'categories': [{'alias': 'coffee', 'title': 'Coffee & Tea'}], 'rating': 5.0, 'coordinates': {'latitude': 34.0501709929, 'longitude': -118.25297364}, 'transactions': [], 'location': {'address1': '555 W Fifth St', 'address2': None, 'address3': '', 'city': 'Los Angeles', 'zip_code': '90013', 'country': 'US', 'state': 'CA', 'display_address': ['555 W Fifth St', 'Los Angeles, CA 90013']}, 'phone': '', 'display_phone': '', 'distance': 1184.0473455986025}, {'id': 'jb2cZFTKsOJmn6C7OxpKOw', 'alias': 'stumptown-coffee-roasters-los-angeles-2', 'name': 'Stumptown Coffee Roasters', 'image_url': 'https://s3-media2.fl.yelpcdn.com/bphoto/Ybd-8HGB7Vn65d-sME2rjA/o.jpg', 'is_closed': False, 'url': 'https://www.yelp.com/biz/stumptown-coffee-roasters-los-angeles-2?adjust_creative=bdJBYIrivjkgp_4AV--1ew&utm_campaign=yelp_api_v3&utm_medium=api_v3_business_search&utm_source=bdJBYIrivjkgp_4AV--1ew', 'review_count': 35, 'categories': [{'alias': 'coffeeroasteries', 'title': 'Coffee Roasteries'}], 'rating': 4.0, 'coordinates': {'latitude': 34.04203, 'longitude': -118.25278}, 'transactions': [], 'price': '$$', 'location': {'address1': '120 E 8th St', 'address2': 'Ste 400', 'address3': None, 'city': 'Los Angeles', 'zip_code': '90014', 'country': 'US', 'state': 'CA', 'display_address': ['120 E 8th St', 'Ste 400', 'Los Angeles, CA 90014']}, 'phone': '', 'display_phone': '', 'distance': 1583.4879641549385}, {'id': 'YxXdWO8uE84evYVbp-5Gqw', 'alias': 'tierra-mia-coffee-los-angeles', 'name': 'Tierra Mia Coffee', 'image_url': 'https://s3-media3.fl.yelpcdn.com/bphoto/e7bpeCgijEJLcRg_BAY9tg/o.jpg', 'is_closed': False, 'url': 'https://www.yelp.com/biz/tierra-mia-coffee-los-angeles?adjust_creative=bdJBYIrivjkgp_4AV--1ew&utm_campaign=yelp_api_v3&utm_medium=api_v3_business_search&utm_source=bdJBYIrivjkgp_4AV--1ew', 'review_count': 408, 'categories': [{'alias': 'coffee', 'title': 'Coffee & Tea'}, {'alias': 'bakeries', 'title': 'Bakeries'}, {'alias': 'cupcakes', 'title': 'Cupcakes'}], 'rating': 4.5, 'coordinates': {'latitude': 34.045240804553, 'longitude': -118.251737728715}, 'transactions': [], 'price': '$', 'location': {'address1': '653 S Spring St', 'address2': '', 'address3': '', 'city': 'Los Angeles', 'zip_code': '90014', 'country': 'US', 'state': 'CA', 'display_address': ['653 S Spring St', 'Los Angeles, CA 90014']}, 'phone': '+12138956000', 'display_phone': '(213) 895-6000', 'distance': 1432.4498193930747}, {'id': 'UaXtosUB1zSFbeudnu6yog', 'alias': 'illy-caffè-los-angeles', 'name': 'illy Caffè', 'image_url': 'https://s3-media2.fl.yelpcdn.com/bphoto/030oYghF6OheP5a28N4IeQ/o.jpg', 'is_closed': False, 'url': 'https://www.yelp.com/biz/illy-caff%C3%A8-los-angeles?adjust_creative=bdJBYIrivjkgp_4AV--1ew&utm_campaign=yelp_api_v3&utm_medium=api_v3_business_search&utm_source=bdJBYIrivjkgp_4AV--1ew', 'review_count': 65, 'categories': [{'alias': 'coffee', 'title': 'Coffee & Tea'}, {'alias': 'italian', 'title': 'Italian'}, {'alias': 'cafes', 'title': 'Cafes'}], 'rating': 3.5, 'coordinates': {'latitude': 34.044682, 'longitude': -118.266189}, 'transactions': [], 'price': '$$', 'location': {'address1': '900 W Olympic Blvd', 'address2': None, 'address3': None, 'city': 'Los Angeles', 'zip_code': '90015', 'country': 'US', 'state': 'CA', 'display_address': ['900 W Olympic Blvd', 'Los Angeles, CA 90015']}, 'phone': '+12132163390', 'display_phone': '(213) 216-3390', 'distance': 679.610246491004}, {'id': 'KzngKeO0G-_M_s-KvW6ayg', 'alias': 'nossa-familia-coffee-los-angeles-2', 'name': 'Nossa Familia Coffee', 'image_url': 'https://s3-media3.fl.yelpcdn.com/bphoto/FFl0emTp8LhALpYYq05AfQ/o.jpg', 'is_closed': False, 'url': 'https://www.yelp.com/biz/nossa-familia-coffee-los-angeles-2?adjust_creative=bdJBYIrivjkgp_4AV--1ew&utm_campaign=yelp_api_v3&utm_medium=api_v3_business_search&utm_source=bdJBYIrivjkgp_4AV--1ew', 'review_count': 55, 'categories': [{'alias': 'coffee', 'title': 'Coffee & Tea'}], 'rating': 5.0, 'coordinates': {'latitude': 34.050824, 'longitude': -118.253872}, 'transactions': [], 'price': '$', 'location': {'address1': '601 W 5th St', 'address2': '', 'address3': 'The Caledison', 'city': 'Los Angeles', 'zip_code': '90071', 'country': 'US', 'state': 'CA', 'display_address': ['601 W 5th St', 'The Caledison', 'Los Angeles, CA 90071']}, 'phone': '+12136750102', 'display_phone': '(213) 675-0102', 'distance': 1096.3607349669978}, {'id': 'w_uQgLW_sYfK0hlhkAUynQ', 'alias': 'bohemian-house-of-espresso-chai-los-angeles', 'name': 'Bohemian House of Espresso + Chai', 'image_url': 'https://s3-media2.fl.yelpcdn.com/bphoto/NchCI81RMb3ITRC0B2CPqQ/o.jpg', 'is_closed': False, 'url': 'https://www.yelp.com/biz/bohemian-house-of-espresso-chai-los-angeles?adjust_creative=bdJBYIrivjkgp_4AV--1ew&utm_campaign=yelp_api_v3&utm_medium=api_v3_business_search&utm_source=bdJBYIrivjkgp_4AV--1ew', 'review_count': 61, 'categories': [{'alias': 'coffee', 'title': 'Coffee & Tea'}], 'rating': 5.0, 'coordinates': {'latitude': 34.0458826080087, 'longitude': -118.250698707998}, 'transactions': [], 'price': '$', 'location': {'address1': '548 S Spring St R110', 'address2': None, 'address3': '', 'city': 'Los Angeles', 'zip_code': '90013', 'country': 'US', 'state': 'CA', 'display_address': ['548 S Spring St R110', 'Los Angeles, CA 90013']}, 'phone': '+12136283086', 'display_phone': '(213) 628-3086', 'distance': 1509.6953494254137}, {'id': '8zuw4OVrmrsa4KApcp2edA', 'alias': 'doubting-thomas-los-angeles-4', 'name': 'Doubting Thomas', 'image_url': 'https://s3-media2.fl.yelpcdn.com/bphoto/YEVjvoPffKZVYqXzxIc_eg/o.jpg', 'is_closed': False, 'url': 'https://www.yelp.com/biz/doubting-thomas-los-angeles-4?adjust_creative=bdJBYIrivjkgp_4AV--1ew&utm_campaign=yelp_api_v3&utm_medium=api_v3_business_search&utm_source=bdJBYIrivjkgp_4AV--1ew', 'review_count': 211, 'categories': [{'alias': 'coffee', 'title': 'Coffee & Tea'}, {'alias': 'breakfast_brunch', 'title': 'Breakfast & Brunch'}, {'alias': 'coffeeroasteries', 'title': 'Coffee Roasteries'}], 'rating': 4.5, 'coordinates': {'latitude': 34.0718273195023, 'longitude': -118.273199664306}, 'transactions': ['pickup'], 'price': '$$', 'location': {'address1': '2510 W Temple St', 'address2': '', 'address3': None, 'city': 'Los Angeles', 'zip_code': '90026', 'country': 'US', 'state': 'CA', 'display_address': ['2510 W Temple St', 'Los Angeles, CA 90026']}, 'phone': '+14245014118', 'display_phone': '(424) 501-4118', 'distance': 2390.9714388955076}, {'id': 'T785BygAMwpVuiGfukiLXA', 'alias': 'pitchoun-los-angeles', 'name': 'Pitchoun!', 'image_url': 'https://s3-media4.fl.yelpcdn.com/bphoto/ecQ4QPH1DFt1qSGh0lG-FQ/o.jpg', 'is_closed': False, 'url': 'https://www.yelp.com/biz/pitchoun-los-angeles?adjust_creative=bdJBYIrivjkgp_4AV--1ew&utm_campaign=yelp_api_v3&utm_medium=api_v3_business_search&utm_source=bdJBYIrivjkgp_4AV--1ew', 'review_count': 898, 'categories': [{'alias': 'cafes', 'title': 'Cafes'}, {'alias': 'bakeries', 'title': 'Bakeries'}, {'alias': 'breakfast_brunch', 'title': 'Breakfast & Brunch'}], 'rating': 4.0, 'coordinates': {'latitude': 34.0485543132128, 'longitude': -118.254053902141}, 'transactions': ['delivery', 'pickup'], 'price': '$$', 'location': {'address1': '545 S Olive St', 'address2': '', 'address3': '', 'city': 'Los Angeles', 'zip_code': '90013', 'country': 'US', 'state': 'CA', 'display_address': ['545 S Olive St', 'Los Angeles, CA 90013']}, 'phone': '+12136893240', 'display_phone': '(213) 689-3240', 'distance': 1118.8758758704962}, {'id': 'buX4WqNdoEsXJAQo0prbIQ', 'alias': 'il-caffe-los-angeles', 'name': 'il caffe', 'image_url': 'https://s3-media2.fl.yelpcdn.com/bphoto/y8MQAE9VxlMPzUZxjcdaxw/o.jpg', 'is_closed': False, 'url': 'https://www.yelp.com/biz/il-caffe-los-angeles?adjust_creative=bdJBYIrivjkgp_4AV--1ew&utm_campaign=yelp_api_v3&utm_medium=api_v3_business_search&utm_source=bdJBYIrivjkgp_4AV--1ew', 'review_count': 202, 'categories': [{'alias': 'coffee', 'title': 'Coffee & Tea'}, {'alias': 'cafes', 'title': 'Cafes'}, {'alias': 'breakfast_brunch', 'title': 'Breakfast & Brunch'}], 'rating': 4.5, 'coordinates': {'latitude': 34.042556923825, 'longitude': -118.255950137973}, 'transactions': [], 'price': '$', 'location': {'address1': '855 S Broadway', 'address2': '', 'address3': '', 'city': 'Los Angeles', 'zip_code': '90014', 'country': 'US', 'state': 'CA', 'display_address': ['855 S Broadway', 'Los Angeles, CA 90014']}, 'phone': '+12136120331', 'display_phone': '(213) 612-0331', 'distance': 1321.5818584189824}, {'id': 'PN_vZL9EVD11r0CRa_DwsA', 'alias': 'starbucks-los-angeles-453', 'name': 'Starbucks', 'image_url': 'https://s3-media3.fl.yelpcdn.com/bphoto/-Sa9HHWkeQDnFqsZRChD8Q/o.jpg', 'is_closed': False, 'url': 'https://www.yelp.com/biz/starbucks-los-angeles-453?adjust_creative=bdJBYIrivjkgp_4AV--1ew&utm_campaign=yelp_api_v3&utm_medium=api_v3_business_search&utm_source=bdJBYIrivjkgp_4AV--1ew', 'review_count': 26, 'categories': [{'alias': 'coffee', 'title': 'Coffee & Tea'}], 'rating': 4.0, 'coordinates': {'latitude': 34.05421, 'longitude': -118.262922}, 'transactions': [], 'price': '$$', 'location': {'address1': '1120 W. 6Th St.', 'address2': '102', 'address3': None, 'city': 'Los Angeles', 'zip_code': '90017', 'country': 'US', 'state': 'CA', 'display_address': ['1120 W. 6Th St.', '102', 'Los Angeles, CA 90017']}, 'phone': '+12135008552', 'display_phone': '(213) 500-8552', 'distance': 422.53549996936664}, {'id': '0hZ9GIgr7ZOby-2N7WG4fQ', 'alias': 'cafe-teragram-los-angeles', 'name': 'Cafe Teragram', 'image_url': 'https://s3-media3.fl.yelpcdn.com/bphoto/0QRnJjauSJbEHz9bsO3COw/o.jpg', 'is_closed': False, 'url': 'https://www.yelp.com/biz/cafe-teragram-los-angeles?adjust_creative=bdJBYIrivjkgp_4AV--1ew&utm_campaign=yelp_api_v3&utm_medium=api_v3_business_search&utm_source=bdJBYIrivjkgp_4AV--1ew', 'review_count': 273, 'categories': [{'alias': 'bars', 'title': 'Bars'}, {'alias': 'newamerican', 'title': 'American (New)'}, {'alias': 'breakfast_brunch', 'title': 'Breakfast & Brunch'}], 'rating': 4.5, 'coordinates': {'latitude': 34.0518905675174, 'longitude': -118.266751163754}, 'transactions': ['delivery', 'pickup'], 'price': '$$', 'location': {'address1': '1234 W 7th St', 'address2': '', 'address3': 'The Teragram Ballroom', 'city': 'Los Angeles', 'zip_code': '90017', 'country': 'US', 'state': 'CA', 'display_address': ['1234 W 7th St', 'The Teragram Ballroom', 'Los Angeles, CA 90017']}, 'phone': '+12136899103', 'display_phone': '(213) 689-9103', 'distance': 117.27333524349301}, {'id': 'I1bSdaNyD3AZMBeZu3zDaQ', 'alias': 'sd-coffee-los-angeles', 'name': 'SD Coffee', 'image_url': 'https://s3-media2.fl.yelpcdn.com/bphoto/MCAYs0dC4RVX1uWKLclgyw/o.jpg', 'is_closed': False, 'url': 'https://www.yelp.com/biz/sd-coffee-los-angeles?adjust_creative=bdJBYIrivjkgp_4AV--1ew&utm_campaign=yelp_api_v3&utm_medium=api_v3_business_search&utm_source=bdJBYIrivjkgp_4AV--1ew', 'review_count': 11, 'categories': [{'alias': 'coffee', 'title': 'Coffee & Tea'}, {'alias': 'donuts', 'title': 'Donuts'}, {'alias': 'sandwiches', 'title': 'Sandwiches'}], 'rating': 4.5, 'coordinates': {'latitude': 34.0569287, 'longitude': -118.2693399}, 'transactions': [], 'price': '$', 'location': {'address1': '1606 W 6th St', 'address2': '', 'address3': '', 'city': 'Los Angeles', 'zip_code': '90017', 'country': 'US', 'state': 'CA', 'display_address': ['1606 W 6th St', 'Los Angeles, CA 90017']}, 'phone': '+12132632614', 'display_phone': '(213) 263-2614', 'distance': 720.3467580091971}, {'id': '9zOloib8p2-YQMaeCRAuMA', 'alias': 'cognoscenti-los-angeles', 'name': 'Cognoscenti', 'image_url': 'https://s3-media2.fl.yelpcdn.com/bphoto/zx2tdZQu_B3RhZX4c13mTQ/o.jpg', 'is_closed': False, 'url': 'https://www.yelp.com/biz/cognoscenti-los-angeles?adjust_creative=bdJBYIrivjkgp_4AV--1ew&utm_campaign=yelp_api_v3&utm_medium=api_v3_business_search&utm_source=bdJBYIrivjkgp_4AV--1ew', 'review_count': 34, 'categories': [{'alias': 'coffee', 'title': 'Coffee & Tea'}, {'alias': 'bakeries', 'title': 'Bakeries'}, {'alias': 'breakfast_brunch', 'title': 'Breakfast & Brunch'}], 'rating': 4.5, 'coordinates': {'latitude': 34.03522, 'longitude': -118.25323}, 'transactions': [], 'price': '$$', 'location': {'address1': '1118 San Julian St', 'address2': '', 'address3': None, 'city': 'Los Angeles', 'zip_code': '90015', 'country': 'US', 'state': 'CA', 'display_address': ['1118 San Julian St', 'Los Angeles, CA 90015']}, 'phone': '+12133287575', 'display_phone': '(213) 328-7575', 'distance': 2099.2008135299625}, {'id': 'KN4dbEU1TFbRhehvi_xV0g', 'alias': 'cow-cafe-los-angeles-2', 'name': 'Cow Cafe', 'image_url': 'https://s3-media1.fl.yelpcdn.com/bphoto/Jfdj6Q7I1fbMOmab2uYs3A/o.jpg', 'is_closed': False, 'url': 'https://www.yelp.com/biz/cow-cafe-los-angeles-2?adjust_creative=bdJBYIrivjkgp_4AV--1ew&utm_campaign=yelp_api_v3&utm_medium=api_v3_business_search&utm_source=bdJBYIrivjkgp_4AV--1ew', 'review_count': 139, 'categories': [{'alias': 'cafes', 'title': 'Cafes'}, {'alias': 'mediterranean', 'title': 'Mediterranean'}], 'rating': 4.5, 'coordinates': {'latitude': 34.0387116497577, 'longitude': -118.264252936783}, 'transactions': ['delivery', 'pickup'], 'price': '$', 'location': {'address1': '342 W Pico Blvd', 'address2': '', 'address3': '', 'city': 'Los Angeles', 'zip_code': '90015', 'country': 'US', 'state': 'CA', 'display_address': ['342 W Pico Blvd', 'Los Angeles, CA 90015']}, 'phone': '+12135365255', 'display_phone': '(213) 536-5255', 'distance': 1398.5089534413733}, {'id': '1C6OxxSGIZ-3hMTfJrt4ug', 'alias': 'spring-for-coffee-los-angeles', 'name': 'Spring For Coffee', 'image_url': 'https://s3-media1.fl.yelpcdn.com/bphoto/bflAcSP8jUHVbscqySXybA/o.jpg', 'is_closed': False, 'url': 'https://www.yelp.com/biz/spring-for-coffee-los-angeles?adjust_creative=bdJBYIrivjkgp_4AV--1ew&utm_campaign=yelp_api_v3&utm_medium=api_v3_business_search&utm_source=bdJBYIrivjkgp_4AV--1ew', 'review_count': 387, 'categories': [{'alias': 'coffee', 'title': 'Coffee & Tea'}], 'rating': 4.5, 'coordinates': {'latitude': 34.046222, 'longitude': -118.2505455}, 'transactions': [], 'price': '$', 'location': {'address1': '548 S Spring St', 'address2': 'Ste 106', 'address3': '', 'city': 'Los Angeles', 'zip_code': '90013', 'country': 'US', 'state': 'CA', 'display_address': ['548 S Spring St', 'Ste 106', 'Los Angeles, CA 90013']}, 'phone': '+12132280041', 'display_phone': '(213) 228-0041', 'distance': 1508.3522357401123}, {'id': 'ETfMpx_bksE7th2bpSkSOQ', 'alias': 'café-persona-los-angeles', 'name': 'café Persona', 'image_url': 'https://s3-media1.fl.yelpcdn.com/bphoto/R3-dluSnoQfWTWYT52RO9g/o.jpg', 'is_closed': False, 'url': 'https://www.yelp.com/biz/caf%C3%A9-persona-los-angeles?adjust_creative=bdJBYIrivjkgp_4AV--1ew&utm_campaign=yelp_api_v3&utm_medium=api_v3_business_search&utm_source=bdJBYIrivjkgp_4AV--1ew', 'review_count': 21, 'categories': [{'alias': 'coffee', 'title': 'Coffee & Tea'}], 'rating': 5.0, 'coordinates': {'latitude': 34.05640283, 'longitude': -118.25053933}, 'transactions': [], 'location': {'address1': '714 W 1st St', 'address2': None, 'address3': '', 'city': 'Los Angeles', 'zip_code': '90012', 'country': 'US', 'state': 'CA', 'display_address': ['714 W 1st St', 'Los Angeles, CA 90012']}, 'phone': '+12132657697', 'display_phone': '(213) 265-7697', 'distance': 1490.6093638885015}, {'id': 'Kno9qCS5oDsxdqP4PIvPUQ', 'alias': 'i-do-coffee-los-angeles-2', 'name': 'I do Coffee', 'image_url': 'https://s3-media1.fl.yelpcdn.com/bphoto/B-CkvqJU3JH8lBJAOGmnBw/o.jpg', 'is_closed': False, 'url': 'https://www.yelp.com/biz/i-do-coffee-los-angeles-2?adjust_creative=bdJBYIrivjkgp_4AV--1ew&utm_campaign=yelp_api_v3&utm_medium=api_v3_business_search&utm_source=bdJBYIrivjkgp_4AV--1ew', 'review_count': 21, 'categories': [{'alias': 'catering', 'title': 'Caterers'}, {'alias': 'coffee', 'title': 'Coffee & Tea'}, {'alias': 'eventplanning', 'title': 'Party & Event Planning'}], 'rating': 5.0, 'coordinates': {'latitude': 34.050679172932, 'longitude': -118.251166642188}, 'transactions': [], 'location': {'address1': '', 'address2': None, 'address3': '', 'city': 'Los Angeles', 'zip_code': '90210', 'country': 'US', 'state': 'CA', 'display_address': ['Los Angeles, CA 90210']}, 'phone': '+18186028288', 'display_phone': '(818) 602-8288', 'distance': 1346.0670921353503}, {'id': 'EIkWmGkspSAR7wZ8DsiGwA', 'alias': 'hygge-bakery-los-angeles-2', 'name': 'Hygge Bakery', 'image_url': 'https://s3-media3.fl.yelpcdn.com/bphoto/BvzXYuMxBopHvcuFiq7jUg/o.jpg', 'is_closed': False, 'url': 'https://www.yelp.com/biz/hygge-bakery-los-angeles-2?adjust_creative=bdJBYIrivjkgp_4AV--1ew&utm_campaign=yelp_api_v3&utm_medium=api_v3_business_search&utm_source=bdJBYIrivjkgp_4AV--1ew', 'review_count': 355, 'categories': [{'alias': 'bakeries', 'title': 'Bakeries'}, {'alias': 'coffee', 'title': 'Coffee & Tea'}, {'alias': 'sandwiches', 'title': 'Sandwiches'}], 'rating': 4.0, 'coordinates': {'latitude': 34.0418846, 'longitude': -118.2631838}, 'transactions': ['delivery', 'pickup'], 'price': '$', 'location': {'address1': '1106 S Hope St', 'address2': '', 'address3': '', 'city': 'Los Angeles', 'zip_code': '90015', 'country': 'US', 'state': 'CA', 'display_address': ['1106 S Hope St', 'Los Angeles, CA 90015']}, 'phone': '+12139955022', 'display_phone': '(213) 995-5022', 'distance': 1062.4118249801454}, {'id': 'CPrrjWX6qn8Emyf6yGoKzg', 'alias': 'toastea-los-angeles', 'name': 'Toastea', 'image_url': 'https://s3-media4.fl.yelpcdn.com/bphoto/TxELMvjSAzA6gZIrZvcyyg/o.jpg', 'is_closed': False, 'url': 'https://www.yelp.com/biz/toastea-los-angeles?adjust_creative=bdJBYIrivjkgp_4AV--1ew&utm_campaign=yelp_api_v3&utm_medium=api_v3_business_search&utm_source=bdJBYIrivjkgp_4AV--1ew', 'review_count': 333, 'categories': [{'alias': 'desserts', 'title': 'Desserts'}, {'alias': 'bubbletea', 'title': 'Bubble Tea'}, {'alias': 'coffee', 'title': 'Coffee & Tea'}], 'rating': 4.5, 'coordinates': {'latitude': 34.0475979890027, 'longitude': -118.257275581359}, 'transactions': ['delivery', 'pickup'], 'price': '$', 'location': {'address1': '600 W 7th St', 'address2': 'Ste 120', 'address3': None, 'city': 'Los Angeles', 'zip_code': '90017', 'country': 'US', 'state': 'CA', 'display_address': ['600 W 7th St', 'Ste 120', 'Los Angeles, CA 90017']}, 'phone': '+12136283766', 'display_phone': '(213) 628-3766', 'distance': 879.8511622939405}, {'id': 'rvTXqR45tGOGR-M8V5upyg', 'alias': '85-c-bakery-cafe-los-angeles', 'name': '85°C Bakery Cafe', 'image_url': 'https://s3-media2.fl.yelpcdn.com/bphoto/mW56-JEbi22bY_l-JlcF8g/o.jpg', 'is_closed': False, 'url': 'https://www.yelp.com/biz/85-c-bakery-cafe-los-angeles?adjust_creative=bdJBYIrivjkgp_4AV--1ew&utm_campaign=yelp_api_v3&utm_medium=api_v3_business_search&utm_source=bdJBYIrivjkgp_4AV--1ew', 'review_count': 313, 'categories': [{'alias': 'coffee', 'title': 'Coffee & Tea'}, {'alias': 'bakeries', 'title': 'Bakeries'}, {'alias': 'cakeshop', 'title': 'Patisserie/Cake Shop'}], 'rating': 3.5, 'coordinates': {'latitude': 34.04867, 'longitude': -118.25753}, 'transactions': [], 'price': '$', 'location': {'address1': '700 Wilshire Blvd', 'address2': 'Ste A', 'address3': None, 'city': 'Los Angeles', 'zip_code': '90017', 'country': 'US', 'state': 'CA', 'display_address': ['700 Wilshire Blvd', 'Ste A', 'Los Angeles, CA 90017']}, 'phone': '+12136231885', 'display_phone': '(213) 623-1885', 'distance': 817.8807495191119}, {'id': 'ptFOhZkFblVfr2ntzykRRA', 'alias': 'maries-coffee-and-deli-los-angeles', 'name': \"Marie's Coffee & Deli\", 'image_url': 'https://s3-media3.fl.yelpcdn.com/bphoto/5pOXLgZY_bs9vaDelib0RQ/o.jpg', 'is_closed': False, 'url': 'https://www.yelp.com/biz/maries-coffee-and-deli-los-angeles?adjust_creative=bdJBYIrivjkgp_4AV--1ew&utm_campaign=yelp_api_v3&utm_medium=api_v3_business_search&utm_source=bdJBYIrivjkgp_4AV--1ew', 'review_count': 437, 'categories': [{'alias': 'coffee', 'title': 'Coffee & Tea'}, {'alias': 'sandwiches', 'title': 'Sandwiches'}, {'alias': 'breakfast_brunch', 'title': 'Breakfast & Brunch'}], 'rating': 4.5, 'coordinates': {'latitude': 34.0484021, 'longitude': -118.2580705}, 'transactions': [], 'price': '$', 'location': {'address1': '731 W 7th St', 'address2': '', 'address3': '', 'city': 'Los Angeles', 'zip_code': '90017', 'country': 'US', 'state': 'CA', 'display_address': ['731 W 7th St', 'Los Angeles, CA 90017']}, 'phone': '+12136225283', 'display_phone': '(213) 622-5283', 'distance': 744.7736698168105}], 'total': 430, 'region': {'center': {'longitude': -118.26576232910156, 'latitude': 34.051226417953856}}}\n"
          ],
          "name": "stdout"
        }
      ]
    },
    {
      "cell_type": "markdown",
      "metadata": {
        "id": "JD3JOgFN9erW",
        "colab_type": "text"
      },
      "source": [
        "**Create an empty list to hold your businesses - business_list**"
      ]
    },
    {
      "cell_type": "code",
      "metadata": {
        "id": "T4EmAmnX9BSz",
        "colab_type": "code",
        "colab": {}
      },
      "source": [
        "business_list = []"
      ],
      "execution_count": 0,
      "outputs": []
    },
    {
      "cell_type": "markdown",
      "metadata": {
        "id": "j-_qCGeS9CBC",
        "colab_type": "text"
      },
      "source": [
        "**Loop through the listings and append components to business_list**"
      ]
    },
    {
      "cell_type": "code",
      "metadata": {
        "id": "RDVDP7TnQO0T",
        "colab_type": "code",
        "colab": {}
      },
      "source": [
        "for business in response.json()['businesses']:\n",
        "  name = business[\"name\"]\n",
        "  address = business[\"location\"]\n",
        "  phone = business[\"phone\"]\n",
        "  yelp_url = business[\"url\"]\n",
        "  reviews = business['review_count']\n",
        "  rating = business[\"rating\"]\n",
        "  business_list.append([name, address, phone, yelp_url, reviews, rating])"
      ],
      "execution_count": 0,
      "outputs": []
    },
    {
      "cell_type": "markdown",
      "metadata": {
        "id": "scamnN0S_Kkh",
        "colab_type": "text"
      },
      "source": [
        "**Create list of tuples (couples) using 2 lists: Locations with 2 addresses and offset_list**"
      ]
    },
    {
      "cell_type": "code",
      "metadata": {
        "id": "U194QAVY8bt0",
        "colab_type": "code",
        "colab": {}
      },
      "source": [
        "offset_list = [0, 51, 101, 151, 201, 251, 301, 351, 401, 451, 501, 551, 601, 651, 701, 751, 801, 851, 901]\n",
        "locations = [\"200 N Main Street, Los Angeles CA 90012\", \"1200 W 7th Street, Los Angeles CA 90017\"]\n",
        "couples = product(offset_list, locations)"
      ],
      "execution_count": 0,
      "outputs": []
    },
    {
      "cell_type": "markdown",
      "metadata": {
        "id": "wQWUInLT_PNt",
        "colab_type": "text"
      },
      "source": [
        "**Nest 2 For Loops - Outer to loop through the locations and offsets, and Inner targeting specific listing details; Append restuls to a list business_list2**"
      ]
    },
    {
      "cell_type": "code",
      "metadata": {
        "id": "YkgCOy7ELg7Y",
        "colab_type": "code",
        "colab": {}
      },
      "source": [
        "business_list2 = []"
      ],
      "execution_count": 0,
      "outputs": []
    },
    {
      "cell_type": "code",
      "metadata": {
        "id": "Sw8IpGgUbSJ5",
        "colab_type": "code",
        "colab": {}
      },
      "source": [
        "for a, b in couples:\n",
        "  url_params = {\"location\" : b,\n",
        "                  \"limit\" : 50,\n",
        "                  \"term\" : \"coffee\",\n",
        "                  \"radius\" : 2400,\n",
        "                  \"offset\" : a}\n",
        "  response = r.request('GET', url, headers=headers, params=url_params)\n",
        "  for business in response.json()['businesses']:\n",
        "    name = business[\"name\"]\n",
        "    address = business[\"location\"]\n",
        "    phone = business[\"phone\"]\n",
        "    yelp_url = business[\"url\"]\n",
        "    reviews = business['review_count']\n",
        "    rating = business[\"rating\"]\n",
        "    business_list2.append([name, address, phone, yelp_url, reviews, rating])"
      ],
      "execution_count": 0,
      "outputs": []
    },
    {
      "cell_type": "code",
      "metadata": {
        "id": "q5s8j9dYb13x",
        "colab_type": "code",
        "outputId": "d8f9f2cf-aeef-4ee7-ff90-4a0ed7a87682",
        "colab": {
          "base_uri": "https://localhost:8080/",
          "height": 35
        }
      },
      "source": [
        "print(len(business_list2))"
      ],
      "execution_count": 0,
      "outputs": [
        {
          "output_type": "stream",
          "text": [
            "978\n"
          ],
          "name": "stdout"
        }
      ]
    },
    {
      "cell_type": "code",
      "metadata": {
        "id": "xh2k3Ptdb6Oj",
        "colab_type": "code",
        "outputId": "86a7e507-f2aa-4f13-b4ca-7321d2f81094",
        "colab": {
          "base_uri": "https://localhost:8080/",
          "height": 55
        }
      },
      "source": [
        "print(business_list[7])"
      ],
      "execution_count": 0,
      "outputs": [
        {
          "output_type": "stream",
          "text": [
            "['Brasil Kiss Coffeebar', {'address1': '1010 Wilshire Blvd', 'address2': None, 'address3': '', 'city': 'Los Angeles', 'zip_code': '90017', 'country': 'US', 'state': 'CA', 'display_address': ['1010 Wilshire Blvd', 'Los Angeles, CA 90017']}, '+12137855131', 'https://www.yelp.com/biz/brasil-kiss-coffeebar-los-angeles-3?adjust_creative=bdJBYIrivjkgp_4AV--1ew&utm_campaign=yelp_api_v3&utm_medium=api_v3_business_search&utm_source=bdJBYIrivjkgp_4AV--1ew', 236, 4.0]\n"
          ],
          "name": "stdout"
        }
      ]
    },
    {
      "cell_type": "code",
      "metadata": {
        "id": "Mb4hH1_DMQDM",
        "colab_type": "code",
        "colab": {}
      },
      "source": [
        ""
      ],
      "execution_count": 0,
      "outputs": []
    }
  ]
}